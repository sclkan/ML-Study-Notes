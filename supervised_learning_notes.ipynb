{
 "cells": [
  {
   "cell_type": "markdown",
   "metadata": {},
   "source": [
    "# Machine Learning Study Notes\n"
   ]
  },
  {
   "cell_type": "markdown",
   "metadata": {},
   "source": [
    "## Supervised learning"
   ]
  },
  {
   "cell_type": "markdown",
   "metadata": {},
   "source": [
    "### 1. Basics of Polynomial Regression Fitting"
   ]
  },
  {
   "cell_type": "code",
   "execution_count": 1,
   "metadata": {},
   "outputs": [],
   "source": [
    "import pandas as pd\n",
    "import numpy as np\n",
    "from sklearn.linear_model import LinearRegression #Library for linear regression\n",
    "from sklearn.preprocessing import PolynomialFeatures #Library for polynomial fitting"
   ]
  },
  {
   "cell_type": "code",
   "execution_count": 2,
   "metadata": {},
   "outputs": [
    {
     "name": "stdout",
     "output_type": "stream",
     "text": [
      "[[-0.33532]\n",
      " [ 0.0216 ]\n",
      " [-1.19438]\n",
      " [-0.65046]\n",
      " [-0.28001]\n",
      " [ 1.93258]\n",
      " [ 1.2262 ]\n",
      " [ 0.74727]\n",
      " [ 3.32853]\n",
      " [ 2.87457]\n",
      " [-1.48662]\n",
      " [ 0.37629]\n",
      " [ 1.43918]\n",
      " [ 0.24183]\n",
      " [-2.7914 ]\n",
      " [ 1.08176]\n",
      " [ 2.81555]\n",
      " [ 0.54924]\n",
      " [ 2.36449]\n",
      " [-1.01925]]\n"
     ]
    }
   ],
   "source": [
    "train_data = pd.read_csv('data.csv')\n",
    "\n",
    "#In order for the polynomial transformation to work, we need to convert our independent variables (predictors) into a matrix by using Numpy's reshape function\n",
    "X = train_data['Var_X'].values.reshape(-1,1)\n",
    "y = train_data['Var_Y'].values\n",
    "\n",
    "print(X)"
   ]
  },
  {
   "cell_type": "code",
   "execution_count": 3,
   "metadata": {},
   "outputs": [
    {
     "name": "stdout",
     "output_type": "stream",
     "text": [
      "[[ 1.00000000e+00 -3.35320000e-01  1.12439502e-01 -3.77032139e-02]\n",
      " [ 1.00000000e+00  2.16000000e-02  4.66560000e-04  1.00776960e-05]\n",
      " [ 1.00000000e+00 -1.19438000e+00  1.42654358e+00 -1.70383513e+00]\n",
      " [ 1.00000000e+00 -6.50460000e-01  4.23098212e-01 -2.75208463e-01]\n",
      " [ 1.00000000e+00 -2.80010000e-01  7.84056001e-02 -2.19543521e-02]\n",
      " [ 1.00000000e+00  1.93258000e+00  3.73486546e+00  7.21792628e+00]\n",
      " [ 1.00000000e+00  1.22620000e+00  1.50356644e+00  1.84367317e+00]\n",
      " [ 1.00000000e+00  7.47270000e-01  5.58412453e-01  4.17284874e-01]\n",
      " [ 1.00000000e+00  3.32853000e+00  1.10791120e+01  3.68771565e+01]\n",
      " [ 1.00000000e+00  2.87457000e+00  8.26315268e+00  2.37530108e+01]\n",
      " [ 1.00000000e+00 -1.48662000e+00  2.21003902e+00 -3.28548821e+00]\n",
      " [ 1.00000000e+00  3.76290000e-01  1.41594164e-01  5.32804680e-02]\n",
      " [ 1.00000000e+00  1.43918000e+00  2.07123907e+00  2.98088585e+00]\n",
      " [ 1.00000000e+00  2.41830000e-01  5.84817489e-02  1.41426413e-02]\n",
      " [ 1.00000000e+00 -2.79140000e+00  7.79191396e+00 -2.17503486e+01]\n",
      " [ 1.00000000e+00  1.08176000e+00  1.17020470e+00  1.26588063e+00]\n",
      " [ 1.00000000e+00  2.81555000e+00  7.92732180e+00  2.23197709e+01]\n",
      " [ 1.00000000e+00  5.49240000e-01  3.01664578e-01  1.65686253e-01]\n",
      " [ 1.00000000e+00  2.36449000e+00  5.59081296e+00  1.32194213e+01]\n",
      " [ 1.00000000e+00 -1.01925000e+00  1.03887056e+00 -1.05886882e+00]]\n"
     ]
    }
   ],
   "source": [
    "#Define the degree of polynomial here.\n",
    "ploy_feat = PolynomialFeatures(3)\n",
    "\n",
    "#Fucntion for polynomial transformation\n",
    "X_poly =  ploy_feat.fit_transform(X)\n",
    "print(X_poly)"
   ]
  },
  {
   "cell_type": "code",
   "execution_count": 4,
   "metadata": {
    "scrolled": true
   },
   "outputs": [],
   "source": [
    "#Make and fit the polynomial regression model\n",
    "poly_model = LinearRegression(fit_intercept =False).fit(X_poly, y)"
   ]
  },
  {
   "cell_type": "markdown",
   "metadata": {},
   "source": [
    "### 2. Perform L1 Regularization (Lasso)"
   ]
  },
  {
   "cell_type": "code",
   "execution_count": 5,
   "metadata": {},
   "outputs": [],
   "source": [
    "from sklearn.linear_model import Lasso #Library for L1 regularization"
   ]
  },
  {
   "cell_type": "code",
   "execution_count": 6,
   "metadata": {},
   "outputs": [],
   "source": [
    "train_data = pd.read_csv('data2.csv', header= None) #Remember to put header = None for csv without a column header"
   ]
  },
  {
   "cell_type": "code",
   "execution_count": 7,
   "metadata": {},
   "outputs": [
    {
     "data": {
      "text/html": [
       "<div>\n",
       "<style scoped>\n",
       "    .dataframe tbody tr th:only-of-type {\n",
       "        vertical-align: middle;\n",
       "    }\n",
       "\n",
       "    .dataframe tbody tr th {\n",
       "        vertical-align: top;\n",
       "    }\n",
       "\n",
       "    .dataframe thead th {\n",
       "        text-align: right;\n",
       "    }\n",
       "</style>\n",
       "<table border=\"1\" class=\"dataframe\">\n",
       "  <thead>\n",
       "    <tr style=\"text-align: right;\">\n",
       "      <th></th>\n",
       "      <th>0</th>\n",
       "      <th>1</th>\n",
       "      <th>2</th>\n",
       "      <th>3</th>\n",
       "      <th>4</th>\n",
       "      <th>5</th>\n",
       "      <th>6</th>\n",
       "    </tr>\n",
       "  </thead>\n",
       "  <tbody>\n",
       "    <tr>\n",
       "      <th>0</th>\n",
       "      <td>1.25664</td>\n",
       "      <td>2.04978</td>\n",
       "      <td>-6.23640</td>\n",
       "      <td>4.71926</td>\n",
       "      <td>-4.26931</td>\n",
       "      <td>0.20590</td>\n",
       "      <td>12.31798</td>\n",
       "    </tr>\n",
       "    <tr>\n",
       "      <th>1</th>\n",
       "      <td>-3.89012</td>\n",
       "      <td>-0.37511</td>\n",
       "      <td>6.14979</td>\n",
       "      <td>4.94585</td>\n",
       "      <td>-3.57844</td>\n",
       "      <td>0.00640</td>\n",
       "      <td>23.67628</td>\n",
       "    </tr>\n",
       "    <tr>\n",
       "      <th>2</th>\n",
       "      <td>5.09784</td>\n",
       "      <td>0.98120</td>\n",
       "      <td>-0.29939</td>\n",
       "      <td>5.85805</td>\n",
       "      <td>0.28297</td>\n",
       "      <td>-0.20626</td>\n",
       "      <td>-1.53459</td>\n",
       "    </tr>\n",
       "    <tr>\n",
       "      <th>3</th>\n",
       "      <td>0.39034</td>\n",
       "      <td>-3.06861</td>\n",
       "      <td>-5.63488</td>\n",
       "      <td>6.43941</td>\n",
       "      <td>0.39256</td>\n",
       "      <td>-0.07084</td>\n",
       "      <td>-24.68670</td>\n",
       "    </tr>\n",
       "    <tr>\n",
       "      <th>4</th>\n",
       "      <td>5.84727</td>\n",
       "      <td>-0.15922</td>\n",
       "      <td>11.41246</td>\n",
       "      <td>7.52165</td>\n",
       "      <td>1.69886</td>\n",
       "      <td>0.29022</td>\n",
       "      <td>17.54122</td>\n",
       "    </tr>\n",
       "  </tbody>\n",
       "</table>\n",
       "</div>"
      ],
      "text/plain": [
       "         0        1         2        3        4        5         6\n",
       "0  1.25664  2.04978  -6.23640  4.71926 -4.26931  0.20590  12.31798\n",
       "1 -3.89012 -0.37511   6.14979  4.94585 -3.57844  0.00640  23.67628\n",
       "2  5.09784  0.98120  -0.29939  5.85805  0.28297 -0.20626  -1.53459\n",
       "3  0.39034 -3.06861  -5.63488  6.43941  0.39256 -0.07084 -24.68670\n",
       "4  5.84727 -0.15922  11.41246  7.52165  1.69886  0.29022  17.54122"
      ]
     },
     "execution_count": 7,
     "metadata": {},
     "output_type": "execute_result"
    }
   ],
   "source": [
    "\"\"\"\n",
    "Column 0 - 5 are the predictors \n",
    "Column 6 is the outcome\n",
    "\"\"\"\n",
    "train_data.head()"
   ]
  },
  {
   "cell_type": "code",
   "execution_count": 8,
   "metadata": {},
   "outputs": [],
   "source": [
    "#Define X and y\n",
    "X = train_data.iloc[:,0:-1]\n",
    "y = train_data.iloc[:,-1]"
   ]
  },
  {
   "cell_type": "code",
   "execution_count": 9,
   "metadata": {},
   "outputs": [
    {
     "name": "stdout",
     "output_type": "stream",
     "text": [
      "[ 0.          2.35793224  2.00441646 -0.05511954 -3.92808318  0.        ]\n"
     ]
    }
   ],
   "source": [
    "#Apply Lasso regularization\n",
    "lasso_reg = Lasso(alpha=1) #alpha is the parameter of punishing complexity\n",
    "lasso_reg.fit(X,y)\n",
    "\n",
    "#Print out coefficient\n",
    "reg_coef = lasso_reg.coef_\n",
    "print(reg_coef)"
   ]
  },
  {
   "cell_type": "markdown",
   "metadata": {},
   "source": [
    "We can see that predictor 0 and predictor 5 have been removed from the model after L1 regularization (to avoid the risk of overfitting).  In comparsion if we just run a linear regression fitting, we would get coefficient for all 7 predictors.  See below:"
   ]
  },
  {
   "cell_type": "code",
   "execution_count": 10,
   "metadata": {},
   "outputs": [
    {
     "name": "stdout",
     "output_type": "stream",
     "text": [
      "[-6.19918532e-03  2.96325160e+00  1.98199191e+00 -7.86249920e-02\n",
      " -3.95818772e+00  9.30786141e+00]\n"
     ]
    }
   ],
   "source": [
    "#Apply linear regression\n",
    "linear_reg = LinearRegression()\n",
    "linear_reg.fit(X,y)\n",
    "\n",
    "#Print out coefficient\n",
    "reg_coef = linear_reg.coef_\n",
    "print(reg_coef)"
   ]
  }
 ],
 "metadata": {
  "kernelspec": {
   "display_name": "Python 3",
   "language": "python",
   "name": "python3"
  },
  "language_info": {
   "codemirror_mode": {
    "name": "ipython",
    "version": 3
   },
   "file_extension": ".py",
   "mimetype": "text/x-python",
   "name": "python",
   "nbconvert_exporter": "python",
   "pygments_lexer": "ipython3",
   "version": "3.7.1"
  }
 },
 "nbformat": 4,
 "nbformat_minor": 2
}
