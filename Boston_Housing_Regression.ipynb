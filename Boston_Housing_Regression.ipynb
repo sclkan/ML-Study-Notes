{
 "cells": [
  {
   "cell_type": "markdown",
   "metadata": {},
   "source": [
    "# Regression Models"
   ]
  },
  {
   "cell_type": "markdown",
   "metadata": {},
   "source": [
    "In this exericse, we will be analyzing scikit-learn's Boston Housing dataset by using regression models and evaluating them with MSE, MAE and R2 scores."
   ]
  },
  {
   "cell_type": "code",
   "execution_count": 2,
   "metadata": {},
   "outputs": [],
   "source": [
    "from sklearn.datasets import load_boston\n",
    "from sklearn.model_selection import train_test_split\n",
    "import numpy as np\n",
    "\n",
    "boston = load_boston()\n",
    "y = boston.target\n",
    "X = boston.data\n",
    "\n",
    "X_train, X_test, y_train, y_test = train_test_split(X, y, test_size=0.2, random_state=10)"
   ]
  },
  {
   "cell_type": "code",
   "execution_count": 4,
   "metadata": {},
   "outputs": [],
   "source": [
    "#Import our libraries\n",
    "from sklearn.ensemble import RandomForestRegressor, AdaBoostRegressor, BaggingRegressor\n",
    "from sklearn.tree import DecisionTreeRegressor\n",
    "from sklearn.linear_model import LinearRegression"
   ]
  },
  {
   "cell_type": "markdown",
   "metadata": {},
   "source": [
    "Note that random forest, adaboost, bagging and decision trees can all be applied to regression models as well.  While logistic regression should only be used for classifications."
   ]
  },
  {
   "cell_type": "code",
   "execution_count": 5,
   "metadata": {},
   "outputs": [],
   "source": [
    "#Instantiate the models\n",
    "ran_reg = RandomForestRegressor()\n",
    "ada_reg = AdaBoostRegressor()\n",
    "bag_reg = BaggingRegressor()\n",
    "tree_reg = DecisionTreeRegressor()\n",
    "lin_reg = LinearRegression()"
   ]
  },
  {
   "cell_type": "code",
   "execution_count": 6,
   "metadata": {},
   "outputs": [
    {
     "name": "stderr",
     "output_type": "stream",
     "text": [
      "C:\\ProgramData\\Anaconda3\\lib\\site-packages\\sklearn\\ensemble\\forest.py:246: FutureWarning: The default value of n_estimators will change from 10 in version 0.20 to 100 in 0.22.\n",
      "  \"10 in version 0.20 to 100 in 0.22.\", FutureWarning)\n"
     ]
    },
    {
     "data": {
      "text/plain": [
       "LinearRegression(copy_X=True, fit_intercept=True, n_jobs=None,\n",
       "         normalize=False)"
      ]
     },
     "execution_count": 6,
     "metadata": {},
     "output_type": "execute_result"
    }
   ],
   "source": [
    "#Fit the models\n",
    "ran_reg.fit(X_train, y_train)\n",
    "ada_reg.fit(X_train, y_train)\n",
    "bag_reg.fit(X_train, y_train)\n",
    "tree_reg.fit(X_train, y_train)\n",
    "lin_reg.fit(X_train, y_train)"
   ]
  },
  {
   "cell_type": "code",
   "execution_count": 7,
   "metadata": {},
   "outputs": [],
   "source": [
    "#Predictions\n",
    "preds_ran = ran_reg.predict(X_test)\n",
    "preds_ada = ada_reg.predict(X_test)\n",
    "preds_bag = bag_reg.predict(X_test)\n",
    "preds_tree = tree_reg.predict(X_test)\n",
    "preds_lin = lin_reg.predict(X_test)"
   ]
  },
  {
   "cell_type": "code",
   "execution_count": 10,
   "metadata": {},
   "outputs": [],
   "source": [
    "#To see our performance\n",
    "from sklearn.metrics import r2_score, mean_squared_error, mean_absolute_error\n",
    "\n",
    "#Write a function to print out metrics\n",
    "def print_metrics(actual, predict, model=None):\n",
    "    if model==None:\n",
    "        print('MSE for this model is:',format(mean_squared_error(actual, predict)))\n",
    "        print('MAE for this model is:',format(mean_absolute_error(actual, predict)))\n",
    "        print('R2 Score for this model is:',format(r2_score(actual, predict)))\n",
    "        print('\\n')\n",
    "    else:\n",
    "        print('MSE for ' + model + ' is: ',format(mean_squared_error(actual, predict)))\n",
    "        print('MAE for ' + model + ' is: ',format(mean_absolute_error(actual, predict)))\n",
    "        print('R2 Score for ' + model + ' is: ',format(r2_score(actual, predict)))\n",
    "        print('\\n')"
   ]
  },
  {
   "cell_type": "code",
   "execution_count": 11,
   "metadata": {},
   "outputs": [
    {
     "name": "stdout",
     "output_type": "stream",
     "text": [
      "MSE for random forest is:  21.512811764705877\n",
      "MAE for random forest is:  3.0143137254901964\n",
      "R2 Score for random forest is:  0.7942947128602192\n",
      "\n",
      "\n",
      "MSE for adaboost is:  18.06265073874272\n",
      "MAE for adaboost is:  3.2844005817205666\n",
      "R2 Score for adaboost is:  0.8272851174752309\n",
      "\n",
      "\n",
      "MSE for bagging is:  21.760065686274512\n",
      "MAE for bagging is:  3.1869607843137255\n",
      "R2 Score for bagging is:  0.7919304733786952\n",
      "\n",
      "\n",
      "MSE for decision tree is:  28.095980392156868\n",
      "MAE for decision tree is:  3.1696078431372543\n",
      "R2 Score for decision tree is:  0.7313465214470865\n",
      "\n",
      "\n",
      "MSE for linear regression is:  34.41396845313853\n",
      "MAE for linear regression is:  4.061419182954704\n",
      "R2 Score for linear regression is:  0.6709339839115631\n",
      "\n",
      "\n"
     ]
    }
   ],
   "source": [
    "print_metrics(y_test, preds_ran, 'random forest')\n",
    "print_metrics(y_test, preds_ada, 'adaboost')\n",
    "print_metrics(y_test, preds_bag, 'bagging')\n",
    "print_metrics(y_test, preds_tree, 'decision tree')\n",
    "print_metrics(y_test, preds_lin, 'linear regression')"
   ]
  },
  {
   "cell_type": "markdown",
   "metadata": {},
   "source": [
    "It seems like adaboost has the lowest mean squared error and the highest R2 score when comparing with other models with the default settings."
   ]
  }
 ],
 "metadata": {
  "kernelspec": {
   "display_name": "Python 3",
   "language": "python",
   "name": "python3"
  },
  "language_info": {
   "codemirror_mode": {
    "name": "ipython",
    "version": 3
   },
   "file_extension": ".py",
   "mimetype": "text/x-python",
   "name": "python",
   "nbconvert_exporter": "python",
   "pygments_lexer": "ipython3",
   "version": "3.7.1"
  }
 },
 "nbformat": 4,
 "nbformat_minor": 2
}
